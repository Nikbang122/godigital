{
 "cells": [
  {
   "cell_type": "markdown",
   "metadata": {},
   "source": [
    "# 1. Change Identity"
   ]
  },
  {
   "cell_type": "code",
   "execution_count": 42,
   "metadata": {},
   "outputs": [],
   "source": [
    "import pandas as pd\n",
    "import matplotlib.pyplot as plt"
   ]
  },
  {
   "cell_type": "code",
   "execution_count": 2,
   "metadata": {},
   "outputs": [],
   "source": [
    "df1 = pd.read_excel('SQL_Pandas_Task.xlsx',sheet_name='Exam 1',header=1)"
   ]
  },
  {
   "cell_type": "code",
   "execution_count": 3,
   "metadata": {},
   "outputs": [],
   "source": [
    "df2 = pd.read_excel('SQL_Pandas_Task.xlsx',sheet_name='Exam 2',header=1)"
   ]
  },
  {
   "cell_type": "code",
   "execution_count": 4,
   "metadata": {},
   "outputs": [],
   "source": [
    "df3 = pd.concat([df1,df2])"
   ]
  },
  {
   "cell_type": "code",
   "execution_count": 5,
   "metadata": {},
   "outputs": [],
   "source": [
    "subjects = [x for x in df3['Exam name'].unique()]*39\n",
    "names = sorted([x for x in df3['Student name'].unique()]*6)"
   ]
  },
  {
   "cell_type": "markdown",
   "metadata": {},
   "source": []
  },
  {
   "cell_type": "code",
   "execution_count": 6,
   "metadata": {},
   "outputs": [],
   "source": [
    "change_identifications = pd.DataFrame(subjects,names)"
   ]
  },
  {
   "cell_type": "code",
   "execution_count": 7,
   "metadata": {},
   "outputs": [],
   "source": [
    "change_identifications = change_identifications.reset_index()"
   ]
  },
  {
   "cell_type": "code",
   "execution_count": 8,
   "metadata": {},
   "outputs": [],
   "source": [
    "change_identifications.columns = ['Student name','Exam name']"
   ]
  },
  {
   "cell_type": "code",
   "execution_count": null,
   "metadata": {},
   "outputs": [],
   "source": []
  },
  {
   "cell_type": "code",
   "execution_count": 9,
   "metadata": {},
   "outputs": [],
   "source": [
    "exam_1 = []\n",
    "exam_2 = []\n",
    "flag = []\n",
    "for x in range(len(change_identifications)):\n",
    "    try:\n",
    "        e1 = int(df1[(df1['Student name']==change_identifications.iloc[x]['Student name'])& (df1['Exam name']==change_identifications.iloc[x]['Exam name'])]['Exam points'])\n",
    "    except:\n",
    "        e1 = 'Absent'\n",
    "    try:\n",
    "        e2 = int(df2[(df2['Student name']==change_identifications.iloc[x]['Student name'])& (df2['Exam name']==change_identifications.iloc[x]['Exam name'])]['Exam points'])\n",
    "    except:\n",
    "        e2 = 'Absent'\n",
    "\n",
    "    exam_1.append(e1)\n",
    "    exam_2.append(e2)\n",
    "\n",
    "    if e1 == e2 and e1 !='Absent':\n",
    "        flag.append('No Change')\n",
    "    elif e1 =='Absent' and e2 !='Absent':\n",
    "        flag.append('Insert')\n",
    "    elif e1 !='Absent' and e2 =='Absent':\n",
    "        flag.append('Delete')\n",
    "    elif e1==e2=='Absent':\n",
    "        flag.append('Absent for both')\n",
    "    else:\n",
    "        flag.append('Updates')"
   ]
  },
  {
   "cell_type": "code",
   "execution_count": 10,
   "metadata": {},
   "outputs": [],
   "source": [
    "change_identifications['Exam1 points'] = exam_1\n",
    "change_identifications['Exam2 points'] = exam_2\n",
    "change_identifications['Flags'] = flag"
   ]
  },
  {
   "cell_type": "markdown",
   "metadata": {},
   "source": [
    "# Solution dataframe for 1st problem"
   ]
  },
  {
   "cell_type": "code",
   "execution_count": 11,
   "metadata": {},
   "outputs": [
    {
     "data": {
      "text/html": [
       "<div>\n",
       "<style scoped>\n",
       "    .dataframe tbody tr th:only-of-type {\n",
       "        vertical-align: middle;\n",
       "    }\n",
       "\n",
       "    .dataframe tbody tr th {\n",
       "        vertical-align: top;\n",
       "    }\n",
       "\n",
       "    .dataframe thead th {\n",
       "        text-align: right;\n",
       "    }\n",
       "</style>\n",
       "<table border=\"1\" class=\"dataframe\">\n",
       "  <thead>\n",
       "    <tr style=\"text-align: right;\">\n",
       "      <th></th>\n",
       "      <th>Student name</th>\n",
       "      <th>Exam name</th>\n",
       "      <th>Exam1 points</th>\n",
       "      <th>Exam2 points</th>\n",
       "      <th>Flags</th>\n",
       "    </tr>\n",
       "  </thead>\n",
       "  <tbody>\n",
       "    <tr>\n",
       "      <th>0</th>\n",
       "      <td>Akeem Chan</td>\n",
       "      <td>Biology</td>\n",
       "      <td>41</td>\n",
       "      <td>62</td>\n",
       "      <td>Updates</td>\n",
       "    </tr>\n",
       "    <tr>\n",
       "      <th>1</th>\n",
       "      <td>Akeem Chan</td>\n",
       "      <td>Chemistry</td>\n",
       "      <td>38</td>\n",
       "      <td>Absent</td>\n",
       "      <td>Delete</td>\n",
       "    </tr>\n",
       "    <tr>\n",
       "      <th>2</th>\n",
       "      <td>Akeem Chan</td>\n",
       "      <td>Mathematics</td>\n",
       "      <td>67</td>\n",
       "      <td>17</td>\n",
       "      <td>Updates</td>\n",
       "    </tr>\n",
       "    <tr>\n",
       "      <th>3</th>\n",
       "      <td>Akeem Chan</td>\n",
       "      <td>Philosophy</td>\n",
       "      <td>33</td>\n",
       "      <td>17</td>\n",
       "      <td>Updates</td>\n",
       "    </tr>\n",
       "    <tr>\n",
       "      <th>4</th>\n",
       "      <td>Akeem Chan</td>\n",
       "      <td>Physics</td>\n",
       "      <td>Absent</td>\n",
       "      <td>Absent</td>\n",
       "      <td>Absent for both</td>\n",
       "    </tr>\n",
       "    <tr>\n",
       "      <th>...</th>\n",
       "      <td>...</td>\n",
       "      <td>...</td>\n",
       "      <td>...</td>\n",
       "      <td>...</td>\n",
       "      <td>...</td>\n",
       "    </tr>\n",
       "    <tr>\n",
       "      <th>229</th>\n",
       "      <td>Yen Bowers</td>\n",
       "      <td>Chemistry</td>\n",
       "      <td>Absent</td>\n",
       "      <td>Absent</td>\n",
       "      <td>Absent for both</td>\n",
       "    </tr>\n",
       "    <tr>\n",
       "      <th>230</th>\n",
       "      <td>Yen Bowers</td>\n",
       "      <td>Mathematics</td>\n",
       "      <td>40</td>\n",
       "      <td>98</td>\n",
       "      <td>Updates</td>\n",
       "    </tr>\n",
       "    <tr>\n",
       "      <th>231</th>\n",
       "      <td>Yen Bowers</td>\n",
       "      <td>Philosophy</td>\n",
       "      <td>36</td>\n",
       "      <td>8</td>\n",
       "      <td>Updates</td>\n",
       "    </tr>\n",
       "    <tr>\n",
       "      <th>232</th>\n",
       "      <td>Yen Bowers</td>\n",
       "      <td>Physics</td>\n",
       "      <td>Absent</td>\n",
       "      <td>Absent</td>\n",
       "      <td>Absent for both</td>\n",
       "    </tr>\n",
       "    <tr>\n",
       "      <th>233</th>\n",
       "      <td>Yen Bowers</td>\n",
       "      <td>Sociology</td>\n",
       "      <td>52</td>\n",
       "      <td>22</td>\n",
       "      <td>Updates</td>\n",
       "    </tr>\n",
       "  </tbody>\n",
       "</table>\n",
       "<p>234 rows × 5 columns</p>\n",
       "</div>"
      ],
      "text/plain": [
       "    Student name    Exam name Exam1 points Exam2 points            Flags\n",
       "0     Akeem Chan      Biology           41           62          Updates\n",
       "1     Akeem Chan    Chemistry           38       Absent           Delete\n",
       "2     Akeem Chan  Mathematics           67           17          Updates\n",
       "3     Akeem Chan   Philosophy           33           17          Updates\n",
       "4     Akeem Chan      Physics       Absent       Absent  Absent for both\n",
       "..           ...          ...          ...          ...              ...\n",
       "229   Yen Bowers    Chemistry       Absent       Absent  Absent for both\n",
       "230   Yen Bowers  Mathematics           40           98          Updates\n",
       "231   Yen Bowers   Philosophy           36            8          Updates\n",
       "232   Yen Bowers      Physics       Absent       Absent  Absent for both\n",
       "233   Yen Bowers    Sociology           52           22          Updates\n",
       "\n",
       "[234 rows x 5 columns]"
      ]
     },
     "execution_count": 11,
     "metadata": {},
     "output_type": "execute_result"
    }
   ],
   "source": [
    "change_identifications"
   ]
  },
  {
   "cell_type": "code",
   "execution_count": null,
   "metadata": {},
   "outputs": [],
   "source": []
  },
  {
   "cell_type": "markdown",
   "metadata": {},
   "source": [
    "# 2."
   ]
  },
  {
   "cell_type": "markdown",
   "metadata": {},
   "source": [
    "### List of students who appeared for all subject exams as part of exam 2"
   ]
  },
  {
   "cell_type": "code",
   "execution_count": 12,
   "metadata": {},
   "outputs": [],
   "source": [
    "value_count = df2['Student name'].value_counts()"
   ]
  },
  {
   "cell_type": "code",
   "execution_count": 13,
   "metadata": {},
   "outputs": [],
   "source": [
    "l = [value_count[x] for x in df2['Student name']]"
   ]
  },
  {
   "cell_type": "code",
   "execution_count": 14,
   "metadata": {},
   "outputs": [],
   "source": [
    "df2['exam_count']  = l"
   ]
  },
  {
   "cell_type": "code",
   "execution_count": 15,
   "metadata": {},
   "outputs": [],
   "source": [
    "df_all_six = df2[df2['exam_count']==6]"
   ]
  },
  {
   "cell_type": "code",
   "execution_count": 16,
   "metadata": {},
   "outputs": [
    {
     "data": {
      "text/html": [
       "<div>\n",
       "<style scoped>\n",
       "    .dataframe tbody tr th:only-of-type {\n",
       "        vertical-align: middle;\n",
       "    }\n",
       "\n",
       "    .dataframe tbody tr th {\n",
       "        vertical-align: top;\n",
       "    }\n",
       "\n",
       "    .dataframe thead th {\n",
       "        text-align: right;\n",
       "    }\n",
       "</style>\n",
       "<table border=\"1\" class=\"dataframe\">\n",
       "  <thead>\n",
       "    <tr style=\"text-align: right;\">\n",
       "      <th></th>\n",
       "      <th>Student name</th>\n",
       "      <th>Exam name</th>\n",
       "      <th>Exam points</th>\n",
       "      <th>exam_count</th>\n",
       "    </tr>\n",
       "  </thead>\n",
       "  <tbody>\n",
       "    <tr>\n",
       "      <th>6</th>\n",
       "      <td>Shannon Fields</td>\n",
       "      <td>Biology</td>\n",
       "      <td>38</td>\n",
       "      <td>6</td>\n",
       "    </tr>\n",
       "    <tr>\n",
       "      <th>7</th>\n",
       "      <td>Jennifer Keith</td>\n",
       "      <td>Biology</td>\n",
       "      <td>87</td>\n",
       "      <td>6</td>\n",
       "    </tr>\n",
       "    <tr>\n",
       "      <th>8</th>\n",
       "      <td>Keane Cox</td>\n",
       "      <td>Biology</td>\n",
       "      <td>27</td>\n",
       "      <td>6</td>\n",
       "    </tr>\n",
       "    <tr>\n",
       "      <th>9</th>\n",
       "      <td>Sage Foster</td>\n",
       "      <td>Biology</td>\n",
       "      <td>44</td>\n",
       "      <td>6</td>\n",
       "    </tr>\n",
       "    <tr>\n",
       "      <th>10</th>\n",
       "      <td>Ezra Hoover</td>\n",
       "      <td>Biology</td>\n",
       "      <td>29</td>\n",
       "      <td>6</td>\n",
       "    </tr>\n",
       "    <tr>\n",
       "      <th>...</th>\n",
       "      <td>...</td>\n",
       "      <td>...</td>\n",
       "      <td>...</td>\n",
       "      <td>...</td>\n",
       "    </tr>\n",
       "    <tr>\n",
       "      <th>178</th>\n",
       "      <td>Galena Mayer</td>\n",
       "      <td>Sociology</td>\n",
       "      <td>67</td>\n",
       "      <td>6</td>\n",
       "    </tr>\n",
       "    <tr>\n",
       "      <th>179</th>\n",
       "      <td>Reese Black</td>\n",
       "      <td>Sociology</td>\n",
       "      <td>6</td>\n",
       "      <td>6</td>\n",
       "    </tr>\n",
       "    <tr>\n",
       "      <th>180</th>\n",
       "      <td>Phillip Ward</td>\n",
       "      <td>Sociology</td>\n",
       "      <td>72</td>\n",
       "      <td>6</td>\n",
       "    </tr>\n",
       "    <tr>\n",
       "      <th>181</th>\n",
       "      <td>Priscilla Higgins</td>\n",
       "      <td>Sociology</td>\n",
       "      <td>14</td>\n",
       "      <td>6</td>\n",
       "    </tr>\n",
       "    <tr>\n",
       "      <th>182</th>\n",
       "      <td>Yael Trujillo</td>\n",
       "      <td>Sociology</td>\n",
       "      <td>66</td>\n",
       "      <td>6</td>\n",
       "    </tr>\n",
       "  </tbody>\n",
       "</table>\n",
       "<p>120 rows × 4 columns</p>\n",
       "</div>"
      ],
      "text/plain": [
       "          Student name  Exam name  Exam points  exam_count\n",
       "6       Shannon Fields    Biology           38           6\n",
       "7       Jennifer Keith    Biology           87           6\n",
       "8            Keane Cox    Biology           27           6\n",
       "9          Sage Foster    Biology           44           6\n",
       "10         Ezra Hoover    Biology           29           6\n",
       "..                 ...        ...          ...         ...\n",
       "178       Galena Mayer  Sociology           67           6\n",
       "179        Reese Black  Sociology            6           6\n",
       "180       Phillip Ward  Sociology           72           6\n",
       "181  Priscilla Higgins  Sociology           14           6\n",
       "182      Yael Trujillo  Sociology           66           6\n",
       "\n",
       "[120 rows x 4 columns]"
      ]
     },
     "execution_count": 16,
     "metadata": {},
     "output_type": "execute_result"
    }
   ],
   "source": [
    "df_all_six"
   ]
  },
  {
   "cell_type": "markdown",
   "metadata": {},
   "source": [
    "# Sum total marks and percentage for each student"
   ]
  },
  {
   "cell_type": "code",
   "execution_count": 17,
   "metadata": {},
   "outputs": [
    {
     "data": {
      "text/plain": [
       "Student name\n",
       "Alma Richmond        293\n",
       "Burton Burke         321\n",
       "Ezra Hoover          336\n",
       "Galena Mayer         350\n",
       "Grady Decker          98\n",
       "Hayley Hull          288\n",
       "Jenette Humphrey     343\n",
       "Jennifer Keith       414\n",
       "Keane Cox            188\n",
       "Kirestin Sweet       219\n",
       "Mohammad Cantrell    315\n",
       "Octavia Monroe       384\n",
       "Octavius Chambers    257\n",
       "Phillip Ward         428\n",
       "Preston Barrera      256\n",
       "Priscilla Higgins    241\n",
       "Reese Black          109\n",
       "Sage Foster          260\n",
       "Shannon Fields       411\n",
       "Yael Trujillo        449\n",
       "Name: Exam points, dtype: int64"
      ]
     },
     "execution_count": 17,
     "metadata": {},
     "output_type": "execute_result"
    }
   ],
   "source": [
    "df_all_six.groupby('Student name').sum()['Exam points']"
   ]
  },
  {
   "cell_type": "code",
   "execution_count": 18,
   "metadata": {},
   "outputs": [
    {
     "data": {
      "text/plain": [
       "Student name\n",
       "Alma Richmond        48.833333\n",
       "Burton Burke         53.500000\n",
       "Ezra Hoover          56.000000\n",
       "Galena Mayer         58.333333\n",
       "Grady Decker         16.333333\n",
       "Hayley Hull          48.000000\n",
       "Jenette Humphrey     57.166667\n",
       "Jennifer Keith       69.000000\n",
       "Keane Cox            31.333333\n",
       "Kirestin Sweet       36.500000\n",
       "Mohammad Cantrell    52.500000\n",
       "Octavia Monroe       64.000000\n",
       "Octavius Chambers    42.833333\n",
       "Phillip Ward         71.333333\n",
       "Preston Barrera      42.666667\n",
       "Priscilla Higgins    40.166667\n",
       "Reese Black          18.166667\n",
       "Sage Foster          43.333333\n",
       "Shannon Fields       68.500000\n",
       "Yael Trujillo        74.833333\n",
       "Name: Exam points, dtype: float64"
      ]
     },
     "execution_count": 18,
     "metadata": {},
     "output_type": "execute_result"
    }
   ],
   "source": [
    "df_all_six.groupby('Student name').sum()['Exam points']*100/600"
   ]
  },
  {
   "cell_type": "code",
   "execution_count": 19,
   "metadata": {},
   "outputs": [],
   "source": [
    "d = pd.DataFrame(df_all_six.groupby('Student name').sum()['Exam points']*100/600)"
   ]
  },
  {
   "cell_type": "code",
   "execution_count": 20,
   "metadata": {},
   "outputs": [],
   "source": [
    "d.columns = ['percentage']"
   ]
  },
  {
   "cell_type": "code",
   "execution_count": 21,
   "metadata": {},
   "outputs": [],
   "source": [
    "d['total_marks'] = df_all_six.groupby('Student name').sum()['Exam points']"
   ]
  },
  {
   "cell_type": "code",
   "execution_count": 22,
   "metadata": {},
   "outputs": [],
   "source": [
    "sorted_d = d.sort_values('total_marks',ascending=False)"
   ]
  },
  {
   "cell_type": "code",
   "execution_count": null,
   "metadata": {},
   "outputs": [],
   "source": []
  },
  {
   "cell_type": "code",
   "execution_count": 23,
   "metadata": {},
   "outputs": [],
   "source": [
    "sorted_d['rank'] = range(1,21)"
   ]
  },
  {
   "cell_type": "markdown",
   "metadata": {},
   "source": [
    "# Final solution for (2.1 & 2.2)"
   ]
  },
  {
   "cell_type": "code",
   "execution_count": 24,
   "metadata": {},
   "outputs": [
    {
     "data": {
      "text/html": [
       "<div>\n",
       "<style scoped>\n",
       "    .dataframe tbody tr th:only-of-type {\n",
       "        vertical-align: middle;\n",
       "    }\n",
       "\n",
       "    .dataframe tbody tr th {\n",
       "        vertical-align: top;\n",
       "    }\n",
       "\n",
       "    .dataframe thead th {\n",
       "        text-align: right;\n",
       "    }\n",
       "</style>\n",
       "<table border=\"1\" class=\"dataframe\">\n",
       "  <thead>\n",
       "    <tr style=\"text-align: right;\">\n",
       "      <th></th>\n",
       "      <th>percentage</th>\n",
       "      <th>total_marks</th>\n",
       "      <th>rank</th>\n",
       "    </tr>\n",
       "    <tr>\n",
       "      <th>Student name</th>\n",
       "      <th></th>\n",
       "      <th></th>\n",
       "      <th></th>\n",
       "    </tr>\n",
       "  </thead>\n",
       "  <tbody>\n",
       "    <tr>\n",
       "      <th>Yael Trujillo</th>\n",
       "      <td>74.833333</td>\n",
       "      <td>449</td>\n",
       "      <td>1</td>\n",
       "    </tr>\n",
       "    <tr>\n",
       "      <th>Phillip Ward</th>\n",
       "      <td>71.333333</td>\n",
       "      <td>428</td>\n",
       "      <td>2</td>\n",
       "    </tr>\n",
       "    <tr>\n",
       "      <th>Jennifer Keith</th>\n",
       "      <td>69.000000</td>\n",
       "      <td>414</td>\n",
       "      <td>3</td>\n",
       "    </tr>\n",
       "    <tr>\n",
       "      <th>Shannon Fields</th>\n",
       "      <td>68.500000</td>\n",
       "      <td>411</td>\n",
       "      <td>4</td>\n",
       "    </tr>\n",
       "    <tr>\n",
       "      <th>Octavia Monroe</th>\n",
       "      <td>64.000000</td>\n",
       "      <td>384</td>\n",
       "      <td>5</td>\n",
       "    </tr>\n",
       "    <tr>\n",
       "      <th>Galena Mayer</th>\n",
       "      <td>58.333333</td>\n",
       "      <td>350</td>\n",
       "      <td>6</td>\n",
       "    </tr>\n",
       "    <tr>\n",
       "      <th>Jenette Humphrey</th>\n",
       "      <td>57.166667</td>\n",
       "      <td>343</td>\n",
       "      <td>7</td>\n",
       "    </tr>\n",
       "    <tr>\n",
       "      <th>Ezra Hoover</th>\n",
       "      <td>56.000000</td>\n",
       "      <td>336</td>\n",
       "      <td>8</td>\n",
       "    </tr>\n",
       "    <tr>\n",
       "      <th>Burton Burke</th>\n",
       "      <td>53.500000</td>\n",
       "      <td>321</td>\n",
       "      <td>9</td>\n",
       "    </tr>\n",
       "    <tr>\n",
       "      <th>Mohammad Cantrell</th>\n",
       "      <td>52.500000</td>\n",
       "      <td>315</td>\n",
       "      <td>10</td>\n",
       "    </tr>\n",
       "    <tr>\n",
       "      <th>Alma Richmond</th>\n",
       "      <td>48.833333</td>\n",
       "      <td>293</td>\n",
       "      <td>11</td>\n",
       "    </tr>\n",
       "    <tr>\n",
       "      <th>Hayley Hull</th>\n",
       "      <td>48.000000</td>\n",
       "      <td>288</td>\n",
       "      <td>12</td>\n",
       "    </tr>\n",
       "    <tr>\n",
       "      <th>Sage Foster</th>\n",
       "      <td>43.333333</td>\n",
       "      <td>260</td>\n",
       "      <td>13</td>\n",
       "    </tr>\n",
       "    <tr>\n",
       "      <th>Octavius Chambers</th>\n",
       "      <td>42.833333</td>\n",
       "      <td>257</td>\n",
       "      <td>14</td>\n",
       "    </tr>\n",
       "    <tr>\n",
       "      <th>Preston Barrera</th>\n",
       "      <td>42.666667</td>\n",
       "      <td>256</td>\n",
       "      <td>15</td>\n",
       "    </tr>\n",
       "    <tr>\n",
       "      <th>Priscilla Higgins</th>\n",
       "      <td>40.166667</td>\n",
       "      <td>241</td>\n",
       "      <td>16</td>\n",
       "    </tr>\n",
       "    <tr>\n",
       "      <th>Kirestin Sweet</th>\n",
       "      <td>36.500000</td>\n",
       "      <td>219</td>\n",
       "      <td>17</td>\n",
       "    </tr>\n",
       "    <tr>\n",
       "      <th>Keane Cox</th>\n",
       "      <td>31.333333</td>\n",
       "      <td>188</td>\n",
       "      <td>18</td>\n",
       "    </tr>\n",
       "    <tr>\n",
       "      <th>Reese Black</th>\n",
       "      <td>18.166667</td>\n",
       "      <td>109</td>\n",
       "      <td>19</td>\n",
       "    </tr>\n",
       "    <tr>\n",
       "      <th>Grady Decker</th>\n",
       "      <td>16.333333</td>\n",
       "      <td>98</td>\n",
       "      <td>20</td>\n",
       "    </tr>\n",
       "  </tbody>\n",
       "</table>\n",
       "</div>"
      ],
      "text/plain": [
       "                   percentage  total_marks  rank\n",
       "Student name                                    \n",
       "Yael Trujillo       74.833333          449     1\n",
       "Phillip Ward        71.333333          428     2\n",
       "Jennifer Keith      69.000000          414     3\n",
       "Shannon Fields      68.500000          411     4\n",
       "Octavia Monroe      64.000000          384     5\n",
       "Galena Mayer        58.333333          350     6\n",
       "Jenette Humphrey    57.166667          343     7\n",
       "Ezra Hoover         56.000000          336     8\n",
       "Burton Burke        53.500000          321     9\n",
       "Mohammad Cantrell   52.500000          315    10\n",
       "Alma Richmond       48.833333          293    11\n",
       "Hayley Hull         48.000000          288    12\n",
       "Sage Foster         43.333333          260    13\n",
       "Octavius Chambers   42.833333          257    14\n",
       "Preston Barrera     42.666667          256    15\n",
       "Priscilla Higgins   40.166667          241    16\n",
       "Kirestin Sweet      36.500000          219    17\n",
       "Keane Cox           31.333333          188    18\n",
       "Reese Black         18.166667          109    19\n",
       "Grady Decker        16.333333           98    20"
      ]
     },
     "execution_count": 24,
     "metadata": {},
     "output_type": "execute_result"
    }
   ],
   "source": [
    "sorted_d"
   ]
  },
  {
   "cell_type": "markdown",
   "metadata": {},
   "source": [
    "# 90 percentile"
   ]
  },
  {
   "cell_type": "code",
   "execution_count": 25,
   "metadata": {},
   "outputs": [],
   "source": [
    "topStudents90 = int((100-90)*len(sorted_d)/100)  # formula for 90 percentile "
   ]
  },
  {
   "cell_type": "code",
   "execution_count": 26,
   "metadata": {},
   "outputs": [
    {
     "data": {
      "text/plain": [
       "2"
      ]
     },
     "execution_count": 26,
     "metadata": {},
     "output_type": "execute_result"
    }
   ],
   "source": [
    "topStudents90"
   ]
  },
  {
   "cell_type": "code",
   "execution_count": null,
   "metadata": {},
   "outputs": [],
   "source": []
  },
  {
   "cell_type": "code",
   "execution_count": 27,
   "metadata": {},
   "outputs": [],
   "source": [
    "d = dict()\n",
    "l = []\n",
    "for x in df2['Exam name'].unique():\n",
    "    tab = df_all_six[df_all_six['Exam name']==x].sort_values('Exam points',ascending=False)[:topStudents90]\n",
    "    d[x]=tab.iloc[topStudents90-1]['Exam points']\n",
    "    d[f'Above 90 in {x}'] = tab['Student name'].to_list()\n",
    "#     l.extend(tab['Student name'].to_list())"
   ]
  },
  {
   "cell_type": "markdown",
   "metadata": {},
   "source": [
    "# Solution for 2.3"
   ]
  },
  {
   "cell_type": "code",
   "execution_count": 28,
   "metadata": {},
   "outputs": [
    {
     "data": {
      "text/plain": [
       "{'Biology': 87,\n",
       " 'Above 90 in Biology': ['Phillip Ward', 'Jennifer Keith'],\n",
       " 'Chemistry': 83,\n",
       " 'Above 90 in Chemistry': ['Alma Richmond', 'Galena Mayer'],\n",
       " 'Mathematics': 91,\n",
       " 'Above 90 in Mathematics': ['Octavia Monroe', 'Sage Foster'],\n",
       " 'Philosophy': 93,\n",
       " 'Above 90 in Philosophy': ['Yael Trujillo', 'Phillip Ward'],\n",
       " 'Physics': 97,\n",
       " 'Above 90 in Physics': ['Shannon Fields', 'Phillip Ward'],\n",
       " 'Sociology': 95,\n",
       " 'Above 90 in Sociology': ['Hayley Hull', 'Shannon Fields']}"
      ]
     },
     "execution_count": 28,
     "metadata": {},
     "output_type": "execute_result"
    }
   ],
   "source": [
    "d"
   ]
  },
  {
   "cell_type": "code",
   "execution_count": null,
   "metadata": {},
   "outputs": [],
   "source": []
  },
  {
   "cell_type": "markdown",
   "metadata": {},
   "source": [
    "# 3. list of studennt who appeared atleast 4 subject exam"
   ]
  },
  {
   "cell_type": "code",
   "execution_count": 29,
   "metadata": {},
   "outputs": [],
   "source": [
    "df2=df2.drop('exam_count',axis=1)"
   ]
  },
  {
   "cell_type": "code",
   "execution_count": 30,
   "metadata": {},
   "outputs": [],
   "source": [
    "df4 = df3.groupby(['Student name','Exam name']).mean()"
   ]
  },
  {
   "cell_type": "code",
   "execution_count": 31,
   "metadata": {},
   "outputs": [],
   "source": [
    "exam_appeared = df4.groupby('Student name').count()\n"
   ]
  },
  {
   "cell_type": "code",
   "execution_count": 32,
   "metadata": {},
   "outputs": [],
   "source": [
    "exam_appeared.columns = ['exam_appeared']"
   ]
  },
  {
   "cell_type": "code",
   "execution_count": 33,
   "metadata": {},
   "outputs": [],
   "source": [
    "df5 = pd.concat([exam_appeared,df4.groupby('Student name').mean()],axis=1)"
   ]
  },
  {
   "cell_type": "code",
   "execution_count": 34,
   "metadata": {},
   "outputs": [],
   "source": [
    "df6 = df5[df5['exam_appeared']>=4]"
   ]
  },
  {
   "cell_type": "code",
   "execution_count": 35,
   "metadata": {},
   "outputs": [
    {
     "data": {
      "text/plain": [
       "(36, 2)"
      ]
     },
     "execution_count": 35,
     "metadata": {},
     "output_type": "execute_result"
    }
   ],
   "source": [
    "df6.shape"
   ]
  },
  {
   "cell_type": "code",
   "execution_count": 36,
   "metadata": {},
   "outputs": [],
   "source": [
    "df7 = df6.sort_values('Exam points',ascending=False)"
   ]
  },
  {
   "cell_type": "code",
   "execution_count": 37,
   "metadata": {},
   "outputs": [],
   "source": [
    "df7['rank'] = range(1,len(df7)+1)"
   ]
  },
  {
   "cell_type": "markdown",
   "metadata": {},
   "source": [
    "# 3.1 Rank of students based on average score"
   ]
  },
  {
   "cell_type": "code",
   "execution_count": 38,
   "metadata": {},
   "outputs": [
    {
     "data": {
      "text/html": [
       "<div>\n",
       "<style scoped>\n",
       "    .dataframe tbody tr th:only-of-type {\n",
       "        vertical-align: middle;\n",
       "    }\n",
       "\n",
       "    .dataframe tbody tr th {\n",
       "        vertical-align: top;\n",
       "    }\n",
       "\n",
       "    .dataframe thead th {\n",
       "        text-align: right;\n",
       "    }\n",
       "</style>\n",
       "<table border=\"1\" class=\"dataframe\">\n",
       "  <thead>\n",
       "    <tr style=\"text-align: right;\">\n",
       "      <th></th>\n",
       "      <th>exam_appeared</th>\n",
       "      <th>Exam points</th>\n",
       "      <th>rank</th>\n",
       "    </tr>\n",
       "    <tr>\n",
       "      <th>Student name</th>\n",
       "      <th></th>\n",
       "      <th></th>\n",
       "      <th></th>\n",
       "    </tr>\n",
       "  </thead>\n",
       "  <tbody>\n",
       "    <tr>\n",
       "      <th>Jennifer Keith</th>\n",
       "      <td>6</td>\n",
       "      <td>64.500000</td>\n",
       "      <td>1</td>\n",
       "    </tr>\n",
       "    <tr>\n",
       "      <th>Phillip Ward</th>\n",
       "      <td>6</td>\n",
       "      <td>63.000000</td>\n",
       "      <td>2</td>\n",
       "    </tr>\n",
       "    <tr>\n",
       "      <th>Colin Adkins</th>\n",
       "      <td>4</td>\n",
       "      <td>62.875000</td>\n",
       "      <td>3</td>\n",
       "    </tr>\n",
       "    <tr>\n",
       "      <th>Octavia Monroe</th>\n",
       "      <td>6</td>\n",
       "      <td>62.083333</td>\n",
       "      <td>4</td>\n",
       "    </tr>\n",
       "    <tr>\n",
       "      <th>Rogan Edwards</th>\n",
       "      <td>4</td>\n",
       "      <td>60.750000</td>\n",
       "      <td>5</td>\n",
       "    </tr>\n",
       "    <tr>\n",
       "      <th>Galena Mayer</th>\n",
       "      <td>6</td>\n",
       "      <td>60.583333</td>\n",
       "      <td>6</td>\n",
       "    </tr>\n",
       "    <tr>\n",
       "      <th>Hayley Hull</th>\n",
       "      <td>6</td>\n",
       "      <td>58.333333</td>\n",
       "      <td>7</td>\n",
       "    </tr>\n",
       "    <tr>\n",
       "      <th>Shannon Fields</th>\n",
       "      <td>6</td>\n",
       "      <td>58.333333</td>\n",
       "      <td>8</td>\n",
       "    </tr>\n",
       "    <tr>\n",
       "      <th>Yael Trujillo</th>\n",
       "      <td>6</td>\n",
       "      <td>58.250000</td>\n",
       "      <td>9</td>\n",
       "    </tr>\n",
       "    <tr>\n",
       "      <th>Portia Hamilton</th>\n",
       "      <td>4</td>\n",
       "      <td>57.750000</td>\n",
       "      <td>10</td>\n",
       "    </tr>\n",
       "    <tr>\n",
       "      <th>Jenette Humphrey</th>\n",
       "      <td>6</td>\n",
       "      <td>55.750000</td>\n",
       "      <td>11</td>\n",
       "    </tr>\n",
       "    <tr>\n",
       "      <th>Brooke Zimmerman</th>\n",
       "      <td>4</td>\n",
       "      <td>55.750000</td>\n",
       "      <td>12</td>\n",
       "    </tr>\n",
       "    <tr>\n",
       "      <th>Demetrius Castaneda</th>\n",
       "      <td>6</td>\n",
       "      <td>54.916667</td>\n",
       "      <td>13</td>\n",
       "    </tr>\n",
       "    <tr>\n",
       "      <th>Ryan Pena</th>\n",
       "      <td>4</td>\n",
       "      <td>54.750000</td>\n",
       "      <td>14</td>\n",
       "    </tr>\n",
       "    <tr>\n",
       "      <th>Cadman Greene</th>\n",
       "      <td>4</td>\n",
       "      <td>54.250000</td>\n",
       "      <td>15</td>\n",
       "    </tr>\n",
       "    <tr>\n",
       "      <th>Darrel Wallace</th>\n",
       "      <td>4</td>\n",
       "      <td>53.875000</td>\n",
       "      <td>16</td>\n",
       "    </tr>\n",
       "    <tr>\n",
       "      <th>Todd Dillard</th>\n",
       "      <td>5</td>\n",
       "      <td>53.300000</td>\n",
       "      <td>17</td>\n",
       "    </tr>\n",
       "    <tr>\n",
       "      <th>Mohammad Cantrell</th>\n",
       "      <td>6</td>\n",
       "      <td>51.916667</td>\n",
       "      <td>18</td>\n",
       "    </tr>\n",
       "    <tr>\n",
       "      <th>Noelle Marsh</th>\n",
       "      <td>5</td>\n",
       "      <td>51.500000</td>\n",
       "      <td>19</td>\n",
       "    </tr>\n",
       "    <tr>\n",
       "      <th>Preston Barrera</th>\n",
       "      <td>6</td>\n",
       "      <td>49.916667</td>\n",
       "      <td>20</td>\n",
       "    </tr>\n",
       "    <tr>\n",
       "      <th>Hop Cantu</th>\n",
       "      <td>5</td>\n",
       "      <td>49.900000</td>\n",
       "      <td>21</td>\n",
       "    </tr>\n",
       "    <tr>\n",
       "      <th>Victoria Long</th>\n",
       "      <td>4</td>\n",
       "      <td>49.375000</td>\n",
       "      <td>22</td>\n",
       "    </tr>\n",
       "    <tr>\n",
       "      <th>Akeem Chan</th>\n",
       "      <td>5</td>\n",
       "      <td>49.000000</td>\n",
       "      <td>23</td>\n",
       "    </tr>\n",
       "    <tr>\n",
       "      <th>Burton Burke</th>\n",
       "      <td>6</td>\n",
       "      <td>48.666667</td>\n",
       "      <td>24</td>\n",
       "    </tr>\n",
       "    <tr>\n",
       "      <th>Ezra Hoover</th>\n",
       "      <td>6</td>\n",
       "      <td>46.250000</td>\n",
       "      <td>25</td>\n",
       "    </tr>\n",
       "    <tr>\n",
       "      <th>Yen Bowers</th>\n",
       "      <td>4</td>\n",
       "      <td>46.000000</td>\n",
       "      <td>26</td>\n",
       "    </tr>\n",
       "    <tr>\n",
       "      <th>Octavius Chambers</th>\n",
       "      <td>6</td>\n",
       "      <td>44.250000</td>\n",
       "      <td>27</td>\n",
       "    </tr>\n",
       "    <tr>\n",
       "      <th>Priscilla Higgins</th>\n",
       "      <td>6</td>\n",
       "      <td>44.000000</td>\n",
       "      <td>28</td>\n",
       "    </tr>\n",
       "    <tr>\n",
       "      <th>Keane Cox</th>\n",
       "      <td>6</td>\n",
       "      <td>44.000000</td>\n",
       "      <td>29</td>\n",
       "    </tr>\n",
       "    <tr>\n",
       "      <th>Alma Richmond</th>\n",
       "      <td>6</td>\n",
       "      <td>41.416667</td>\n",
       "      <td>30</td>\n",
       "    </tr>\n",
       "    <tr>\n",
       "      <th>Kirestin Sweet</th>\n",
       "      <td>6</td>\n",
       "      <td>40.166667</td>\n",
       "      <td>31</td>\n",
       "    </tr>\n",
       "    <tr>\n",
       "      <th>Reese Black</th>\n",
       "      <td>6</td>\n",
       "      <td>39.666667</td>\n",
       "      <td>32</td>\n",
       "    </tr>\n",
       "    <tr>\n",
       "      <th>Sage Foster</th>\n",
       "      <td>6</td>\n",
       "      <td>39.000000</td>\n",
       "      <td>33</td>\n",
       "    </tr>\n",
       "    <tr>\n",
       "      <th>Grady Decker</th>\n",
       "      <td>6</td>\n",
       "      <td>38.916667</td>\n",
       "      <td>34</td>\n",
       "    </tr>\n",
       "    <tr>\n",
       "      <th>Georgia Gomez</th>\n",
       "      <td>5</td>\n",
       "      <td>37.400000</td>\n",
       "      <td>35</td>\n",
       "    </tr>\n",
       "    <tr>\n",
       "      <th>Nita Valdez</th>\n",
       "      <td>5</td>\n",
       "      <td>35.800000</td>\n",
       "      <td>36</td>\n",
       "    </tr>\n",
       "  </tbody>\n",
       "</table>\n",
       "</div>"
      ],
      "text/plain": [
       "                     exam_appeared  Exam points  rank\n",
       "Student name                                         \n",
       "Jennifer Keith                   6    64.500000     1\n",
       "Phillip Ward                     6    63.000000     2\n",
       "Colin Adkins                     4    62.875000     3\n",
       "Octavia Monroe                   6    62.083333     4\n",
       "Rogan Edwards                    4    60.750000     5\n",
       "Galena Mayer                     6    60.583333     6\n",
       "Hayley Hull                      6    58.333333     7\n",
       "Shannon Fields                   6    58.333333     8\n",
       "Yael Trujillo                    6    58.250000     9\n",
       "Portia Hamilton                  4    57.750000    10\n",
       "Jenette Humphrey                 6    55.750000    11\n",
       "Brooke Zimmerman                 4    55.750000    12\n",
       "Demetrius Castaneda              6    54.916667    13\n",
       "Ryan Pena                        4    54.750000    14\n",
       "Cadman Greene                    4    54.250000    15\n",
       "Darrel Wallace                   4    53.875000    16\n",
       "Todd Dillard                     5    53.300000    17\n",
       "Mohammad Cantrell                6    51.916667    18\n",
       "Noelle Marsh                     5    51.500000    19\n",
       "Preston Barrera                  6    49.916667    20\n",
       "Hop Cantu                        5    49.900000    21\n",
       "Victoria Long                    4    49.375000    22\n",
       "Akeem Chan                       5    49.000000    23\n",
       "Burton Burke                     6    48.666667    24\n",
       "Ezra Hoover                      6    46.250000    25\n",
       "Yen Bowers                       4    46.000000    26\n",
       "Octavius Chambers                6    44.250000    27\n",
       "Priscilla Higgins                6    44.000000    28\n",
       "Keane Cox                        6    44.000000    29\n",
       "Alma Richmond                    6    41.416667    30\n",
       "Kirestin Sweet                   6    40.166667    31\n",
       "Reese Black                      6    39.666667    32\n",
       "Sage Foster                      6    39.000000    33\n",
       "Grady Decker                     6    38.916667    34\n",
       "Georgia Gomez                    5    37.400000    35\n",
       "Nita Valdez                      5    35.800000    36"
      ]
     },
     "execution_count": 38,
     "metadata": {},
     "output_type": "execute_result"
    }
   ],
   "source": [
    "df7"
   ]
  },
  {
   "cell_type": "code",
   "execution_count": null,
   "metadata": {},
   "outputs": [],
   "source": []
  },
  {
   "cell_type": "markdown",
   "metadata": {},
   "source": [
    "# 3.2 Get mean ,median and mode"
   ]
  },
  {
   "cell_type": "markdown",
   "metadata": {},
   "source": [
    "# Mean"
   ]
  },
  {
   "cell_type": "code",
   "execution_count": 39,
   "metadata": {},
   "outputs": [
    {
     "data": {
      "text/plain": [
       "51.00532407407408"
      ]
     },
     "execution_count": 39,
     "metadata": {},
     "output_type": "execute_result"
    }
   ],
   "source": [
    "df7['Exam points'].mean()"
   ]
  },
  {
   "cell_type": "markdown",
   "metadata": {},
   "source": [
    "# Median"
   ]
  },
  {
   "cell_type": "code",
   "execution_count": 40,
   "metadata": {},
   "outputs": [
    {
     "data": {
      "text/plain": [
       "51.70833333333333"
      ]
     },
     "execution_count": 40,
     "metadata": {},
     "output_type": "execute_result"
    }
   ],
   "source": [
    "df7['Exam points'].median()"
   ]
  },
  {
   "cell_type": "markdown",
   "metadata": {},
   "source": [
    "# Mode"
   ]
  },
  {
   "cell_type": "code",
   "execution_count": 41,
   "metadata": {},
   "outputs": [
    {
     "data": {
      "text/plain": [
       "0    44.000000\n",
       "1    55.750000\n",
       "2    58.333333\n",
       "dtype: float64"
      ]
     },
     "execution_count": 41,
     "metadata": {},
     "output_type": "execute_result"
    }
   ],
   "source": [
    "df7['Exam points'].mode()"
   ]
  },
  {
   "cell_type": "markdown",
   "metadata": {},
   "source": [
    "# 1.The MEAN and MEDIAN of the Exam points are symmetrically distribution that why the value are same.\n",
    "\n",
    "\n",
    "\n",
    "# 2.The MODE is the value that appeared most often in a set of data values, the set of 44;55.75;58.33 is frequent."
   ]
  },
  {
   "cell_type": "raw",
   "metadata": {},
   "source": []
  },
  {
   "cell_type": "code",
   "execution_count": null,
   "metadata": {},
   "outputs": [],
   "source": []
  },
  {
   "cell_type": "code",
   "execution_count": null,
   "metadata": {},
   "outputs": [],
   "source": []
  }
 ],
 "metadata": {
  "kernelspec": {
   "display_name": "Python 3",
   "language": "python",
   "name": "python3"
  },
  "language_info": {
   "codemirror_mode": {
    "name": "ipython",
    "version": 3
   },
   "file_extension": ".py",
   "mimetype": "text/x-python",
   "name": "python",
   "nbconvert_exporter": "python",
   "pygments_lexer": "ipython3",
   "version": "3.8.10"
  }
 },
 "nbformat": 4,
 "nbformat_minor": 4
}
